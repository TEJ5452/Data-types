{
  "nbformat": 4,
  "nbformat_minor": 0,
  "metadata": {
    "colab": {
      "provenance": []
    },
    "kernelspec": {
      "name": "python3",
      "display_name": "Python 3"
    },
    "language_info": {
      "name": "python"
    }
  },
  "cells": [
    {
      "cell_type": "markdown",
      "source": [
        "# DATA TYPES AND STRUCTURE\n"
      ],
      "metadata": {
        "id": "A47RvBltXI5k"
      }
    },
    {
      "cell_type": "markdown",
      "source": [
        "1. What are Data structures, and why are they important?\n",
        "   * Data structures are way of organising ans storing data so that it can be accessed and manipulated efficiently.\n",
        "    They provide efficient ways to manage information based on its characteristics and intended use as different containers are better suited for different types of items.\n",
        "\n",
        "    * They are important because choosing the right data structure significantly impacts the efficiency and performance of our program.\n",
        "    * It helps us to manage and manipulate large data sets.\n",
        "    * It is the foundation of algorithum as many algorithums rely on efficient data structures to perform well.\n",
        "    * It conserve memory usage."
      ],
      "metadata": {
        "id": "3_uNO-vUW_7s"
      }
    },
    {
      "cell_type": "markdown",
      "source": [
        "2. Explain the differences betweeen mutable and immutable dat types with examples?\n",
        "  > Mutables are those objects/containers whose state or value can be changed after they are created are called as mutable objects.\n",
        "  . Mutable types include list, dict, set, and bytearray.\n",
        "  . we can add,remove,or modify elements without changing the object's identity.\n"
      ],
      "metadata": {
        "id": "am_71yE6Xxlh"
      }
    },
    {
      "cell_type": "markdown",
      "source": [
        "#for example\n",
        "\n"
      ],
      "metadata": {
        "id": "qStloAMqfsia"
      }
    },
    {
      "cell_type": "code",
      "source": [
        "b = \"SUNIL\"\n",
        "b"
      ],
      "metadata": {
        "colab": {
          "base_uri": "https://localhost:8080/",
          "height": 36
        },
        "id": "SCgWmmq6jROy",
        "outputId": "b65d9c50-74ac-45ab-9916-1a0831a428ed"
      },
      "execution_count": null,
      "outputs": [
        {
          "output_type": "execute_result",
          "data": {
            "text/plain": [
              "'SUNIL'"
            ],
            "application/vnd.google.colaboratory.intrinsic+json": {
              "type": "string"
            }
          },
          "metadata": {},
          "execution_count": 8
        }
      ]
    },
    {
      "cell_type": "markdown",
      "source": [
        ">While immutable are those objects/containers whose state or value can be canged after they are created are called as immutable objects.This include int,float,str,and tuple.\n",
        ". Any changes creates a new object."
      ],
      "metadata": {
        "id": "hX-gXp5FgfqA"
      }
    },
    {
      "cell_type": "markdown",
      "source": [
        "for example\n",
        "\n"
      ],
      "metadata": {
        "id": "_q-zYKophe-d"
      }
    },
    {
      "cell_type": "code",
      "source": [
        "emp_name= (\"ajay,sunil,ramesh,ram\")\n",
        "type(emp_name)"
      ],
      "metadata": {
        "colab": {
          "base_uri": "https://localhost:8080/"
        },
        "id": "ABpIMJiFjtdr",
        "outputId": "5747a20c-2e89-4d26-a739-d8e042a830ef"
      },
      "execution_count": null,
      "outputs": [
        {
          "output_type": "execute_result",
          "data": {
            "text/plain": [
              "str"
            ]
          },
          "metadata": {},
          "execution_count": 11
        }
      ]
    },
    {
      "cell_type": "code",
      "source": [
        "emp_name[0]"
      ],
      "metadata": {
        "colab": {
          "base_uri": "https://localhost:8080/",
          "height": 36
        },
        "id": "77rpObl4kJqG",
        "outputId": "2122e036-49ba-4105-b904-eeb10550041e"
      },
      "execution_count": null,
      "outputs": [
        {
          "output_type": "execute_result",
          "data": {
            "text/plain": [
              "'a'"
            ],
            "application/vnd.google.colaboratory.intrinsic+json": {
              "type": "string"
            }
          },
          "metadata": {},
          "execution_count": 12
        }
      ]
    },
    {
      "cell_type": "code",
      "source": [
        "3.What are the main differences between lists and tuples in Python?\n",
        "* In Python, lists and tuples are both used to store collections of items,but they have key differences.The primary difference is mutability:lists are mutable, meaning their contents can be changed after creation which means items can be added,removed or modified, while tuple are immutable,meaning once created, their content cannot be altered.\n",
        "* use square brackets[],whereas tuples use parenthess ()\n",
        "* Due to their immutability,tuples are generally faster and use less memorythan lists,making them more efficient for read only data.Additionally,tuples can be used as keys in dictionaries and elements in sets,while lists cannot,because only immutable types can be hashed.BaseException.\n",
        "* In terms of use cases,lists are preferred when data may change during runtime,while tuples are ideal for fixed collections of items."
      ],
      "metadata": {
        "id": "xbAHH3RFkSmN"
      },
      "execution_count": null,
      "outputs": []
    },
    {
      "cell_type": "markdown",
      "source": [
        "4. Describe how dictionaries stores data?\n",
        "  > In Pyhton,dictionaries store data as key-value pairs,allowing for fast and efficient data retrieval.\n",
        "  * Each key in a dictionary is unique and maps to a specific value\n",
        "  * Internally,Python uses a hash table to implement dictionaries,where keys are hashed to determine their index in memory.This enables quicl access,insertion,and deletion operations,typically in constant time.\n",
        "  * Keys must be of an immutable type such as strings,numbers, or tuples, while values can be of any type .\n",
        "  * Dictionaries are ideal for storing data,like configuration settings or user information,where each item can be quickly accessed by its key."
      ],
      "metadata": {
        "id": "39o49whXkdQ3"
      }
    },
    {
      "cell_type": "markdown",
      "source": [
        "5. Why might you use a set instead of a list in Pyhton?\n",
        "  >* You might use a set instead of a lsit in Python when you need to store unique elements and don't care about the order.\n",
        "\n",
        "    >* Sets autoamtically remove duplicates,making them ideal for tasks like filtering repeated values.\n",
        "\n",
        "    >* They also offers faster membership testing due to their underlying hash table implementation,which is more efficient than a list's linear search .\n",
        "\n",
        "    >* Sets are great for operations like unions,intersections, and differences between collections.However,unlike lists,sets are unordered and do not support indexing ,so they are not suitable when the order or position of elements matters.\n",
        "\n",
        "\n",
        "\n",
        "\n"
      ],
      "metadata": {
        "id": "C4EI-Q7Xpmfe"
      }
    },
    {
      "cell_type": "markdown",
      "source": [
        "6. What is a string in Python,and how is it different from a list?\n",
        "  >*  A string is an immutable sequence of characters used to represent rext.Strings are enclosed in quotes ('' or \" \"),and each character can be accessed by index.Unlike lists,which can be contain elements of any data type and are mutable,strings can only contain characters and cannot be changed once created.\n",
        "\n",
        "  >* For example , we can modify a list element directly,but to change a string,we must create a new one.Also while both suppport slicing and iteration,lists offer more flexibility for data manipulation,whereas strings are optimized for text-related operations like formatting and searching  "
      ],
      "metadata": {
        "id": "EKh9uCk1sqzC"
      }
    },
    {
      "cell_type": "markdown",
      "source": [
        "7. How do tuples ensure data integrity in Python ?\n",
        ">* Tuples ensure data integrity in Python by being immutable,meaning their contents cannot be changed after creation.This immutability prevents accidental modifications,making tuples ideal for storing consatnt or fixed data.Since the data can't be altered,tuples help maintain consistency and reliability throughout the program.They can be safely used as keys in dictionaries or elements in sets,unlike mutable types.This stability makes tuples a good choice when data should remain unchanged and secure during execution."
      ],
      "metadata": {
        "id": "uilTzAhJzYcX"
      }
    },
    {
      "cell_type": "markdown",
      "source": [
        "8. What is a hash table, and how does it relate to dictionaries in Python?\n",
        "  >* A hash table is a data structure that maps keys to values for efficient data retrieval.\n",
        "  * It uses a hash function to convert a key into a hash code,which determines where the value is stored in memory.\n",
        "  * Python's dictionary is implemented using a hash table under the hood.\n",
        "  * Each keys in a dictionary must be hashable.\n",
        "  * Hash tables provide constant time complexity(0(1)) for loolups,insertions,and  deletions on average.\n",
        "  * When a key-value pair is added to a dictionary,Python computes the hash of the key to find the appropriate index.\n",
        "  * If two keys hash to the same location,Pyhton uses probing to resolve it.\n",
        "  * This structure makes dictionaries very efficient for tasks involving fast data access,such as configurations,mappings or caching."
      ],
      "metadata": {
        "id": "QaOCP4uJ1hIu"
      }
    },
    {
      "cell_type": "markdown",
      "source": [
        "9. Can lists contain different data types in Python?\n",
        "  >* Yes, lists in Python can contain different data types within the same list.Pyhton lists are heterogenous,meaning you can store integers,strings,floats,booleans or even other lists and objects together.This flexibiilty makes lists highly versatile."
      ],
      "metadata": {
        "id": "H-iy3FOF4q49"
      }
    },
    {
      "cell_type": "markdown",
      "source": [
        "10. Explain why strings are immuatable in Python?\n",
        ">* Strings are immutable in Python to ensure data integrity,security and efficient memory usage.When a string is modified, a new string object is created instead of changing the original.This design allows strings to be safely used as keys in dictionaries and shared across different parts of a program without unintended side effects.Immutability also enables performance optimizations,like string interning,where indentical strings are stored only once to save memory and speed up comparisons.  "
      ],
      "metadata": {
        "id": "lx20ma_h56fE"
      }
    },
    {
      "cell_type": "markdown",
      "source": [
        "11. What advantages do dictionaries offer over lists for certain tasks?\n",
        ">* Dictionaries offer faster data retrieval through key-based access, making them ideal for lookups and associative data.Unlike lists,which require searching by index or value,dictionaries allow instant access using unique keys.They also provide clearer,more meaningful organization when stroing related data,such as user profiles or settings,improving code readability and efficiency for many tasks."
      ],
      "metadata": {
        "id": "BDIIw4Ui8W5J"
      }
    },
    {
      "cell_type": "markdown",
      "source": [
        "12.Describe a scenario where using a tuple would be preferable over a list?\n",
        ">* Using a tuple is preferable when we need to store a fixed set of values that should not change,such as coordinates(x,y) or a date (day,month,year). For example, returning mutliple values from a functions using a tuple ensures the data remains unchanged,enhancing data integrity and allowing safe use as dictionary keys or element in sets."
      ],
      "metadata": {
        "id": "eASxukM_95gj"
      }
    },
    {
      "cell_type": "markdown",
      "source": [
        "13. How do sets handle duplicate values in Python?\n",
        ">*  In Python,sets automatically remove duplicate values.when elements are added to a set,only unique items are stored.If a duplicate is added,it is ignored.This behavior makes sets ideal for tasks like filtering duplicates from a list or checking for unique items in a collection.  "
      ],
      "metadata": {
        "id": "XKs_jOGvAlnm"
      }
    },
    {
      "cell_type": "markdown",
      "source": [
        "14. How does the \"in\" keyword work differently for lists and dictionaries?\n",
        ">* The \"in\" keyword checks for membership but behaves differently for lists and dictionaries.In a list, in checks whether a value exists among the elements.In a dictionary, in checks for the presence of a key,not a value.\n",
        "\n",
        "* for example:-\n",
        " \"name\" in my_dict checks if \"name\" is a key,not whether it's stored as a value."
      ],
      "metadata": {
        "id": "NBYP3r7PB1dP"
      }
    },
    {
      "cell_type": "markdown",
      "source": [
        "15. Can you modify the elements of a tuple? Explain why or why not?\n",
        ">* No, we cannot modify the elements of a tuple because tuples are immutable.Once a tuple is created,it's contents-meaning the elements it holds-cannot be changed,added to, or removed.This immutability ensures data consistency and integrity,making tuples suitable for fixed data collections.However,if a tuple contains a mutable object like a list,the contents of that inner object can be modified,but overall tuple structure remains unchanged."
      ],
      "metadata": {
        "id": "8RBOOTlvDi-j"
      }
    },
    {
      "cell_type": "markdown",
      "source": [
        "16. What is a nested dictionary,and give an example of its use case?\n",
        ">* A nested dictionary is a dictionary where values are also dictionaries.It allows storing complex,hiearchical data.\n",
        "* For example, it's useful for representing structured information like a database of students with their details.\n",
        "\n",
        "students = \"Alice\" {\"age: 20, \"grade: \"A\"}\n",
        "           \"Bob\" {\"age: 22, \"grade: \"B\"}\n",
        "\n"
      ],
      "metadata": {
        "id": "dXHz9EDMFO-6"
      }
    },
    {
      "cell_type": "markdown",
      "source": [
        "17. Describe the time complexity of accessing elements in a dictionary?\n",
        ">* Accessing elements in a dictionary is generally very fast, with a time complexity of 0(1) on average .This is because Python uses a hashing mechanism to map keys directly to their corresponding values.Unlike lists, which requires searching by index or value,dictionaries offer direct access using unique  keys,making lookups efficient even in large datasets."
      ],
      "metadata": {
        "id": "9I11XY75HVes"
      }
    },
    {
      "cell_type": "markdown",
      "source": [
        "18. In what situations are lists preferred over dictionaries?\n",
        ">* Lists are preferred over dictionaries when you need to store ordered collections of items without key-value pairs.They are ideal for iterating in sequence,maintaining element order,or when index-based access is required.Lists are aslo simple and more memory efficient when we don't need to associate values with unique keys."
      ],
      "metadata": {
        "id": "DmRWiOqiJGY_"
      }
    },
    {
      "cell_type": "markdown",
      "source": [
        "19. Why are dictionaries considered unordered, and how does that affect data retrieval?\n",
        ">* Dictionaries are called unordered because we don't get items by their position like in a list.Instead, we use keys to get values.The order they are stored doesn't matter for finding things.This makes data access faster,but we can't rely on the order unless we are using Python 3.7 or later,where the insertion order is kept."
      ],
      "metadata": {
        "id": "63hPo95xKMEm"
      }
    },
    {
      "cell_type": "markdown",
      "source": [
        "20. Explain the difference between a list and a dictionary in terms of data retrieval?\n",
        ">* In a list,data is retrieved by index.We access elements based on their position(e.g., my_list[2]) which means the order matters.In a dictionary,data is retrieved by key(e.g.my_dict['name'].The key value pair structure allows for fast lookups,and order is not a concern for accessing values,although Pyhton 3.7+ maintains insertion order.Overall,dictionaries provide faster access for specific items compared to lists,which rely on position based retrieval."
      ],
      "metadata": {
        "id": "TxX7H_R3MSLD"
      }
    },
    {
      "cell_type": "markdown",
      "source": [
        "PRACTICAL QUESTIONS:-"
      ],
      "metadata": {
        "id": "rfXnYyBmQL9G"
      }
    },
    {
      "cell_type": "code",
      "source": [
        "#1. Write a code to create a string with your name and print it\n",
        "\n",
        "name = \"TEJ PRAKASH\"\n",
        "print (name)\n"
      ],
      "metadata": {
        "colab": {
          "base_uri": "https://localhost:8080/"
        },
        "id": "KdIniMuLQv9e",
        "outputId": "8ec93c68-0621-49aa-bbb9-d4570d8939db"
      },
      "execution_count": 1,
      "outputs": [
        {
          "output_type": "stream",
          "name": "stdout",
          "text": [
            "TEJ PRAKASH\n"
          ]
        }
      ]
    },
    {
      "cell_type": "code",
      "source": [
        "#2. Write a code to find the length of the string \"Hello World\"\n",
        "\n",
        "text = \"Hello World\"\n",
        "length = len(text)\n",
        "print(length)\n",
        "\n"
      ],
      "metadata": {
        "colab": {
          "base_uri": "https://localhost:8080/"
        },
        "id": "UeRNY-j3Rd90",
        "outputId": "60507d19-7721-473a-ad52-dabd74afeaa6"
      },
      "execution_count": 3,
      "outputs": [
        {
          "output_type": "stream",
          "name": "stdout",
          "text": [
            "11\n"
          ]
        }
      ]
    },
    {
      "cell_type": "code",
      "source": [
        "#3. Write a code to slice the first 3 characters from the string \"Python Programming\".\n",
        "\n",
        "text = \"Python Programming\"\n",
        "sliced_text = text[0:3]\n",
        "print(sliced_text)"
      ],
      "metadata": {
        "colab": {
          "base_uri": "https://localhost:8080/"
        },
        "id": "iE4Nt71qScWX",
        "outputId": "fe92fdb8-dc36-4576-9528-b66fede6e42c"
      },
      "execution_count": 5,
      "outputs": [
        {
          "output_type": "stream",
          "name": "stdout",
          "text": [
            "Pyt\n"
          ]
        }
      ]
    },
    {
      "cell_type": "code",
      "source": [
        "#4. Write a code to convert the string \"hello\" to uppercase.\n",
        "\n",
        "text = \"hello\"\n",
        "uppercase_text = text.upper()\n",
        "print(uppercase_text)"
      ],
      "metadata": {
        "colab": {
          "base_uri": "https://localhost:8080/"
        },
        "id": "4IdeWKWuUbYg",
        "outputId": "8b17a0d0-876e-4d34-e56a-462767a46b09"
      },
      "execution_count": 5,
      "outputs": [
        {
          "output_type": "stream",
          "name": "stdout",
          "text": [
            "HELLO\n"
          ]
        }
      ]
    },
    {
      "cell_type": "code",
      "source": [
        "#5. Write a code to replace the word \"apple\" with \"orange\" in the string \"I like apple\".\n",
        "\n",
        "text = \"I like apple\"\n",
        "replaced_text = text.replace(\"apple\", \"orange\")\n",
        "print(replaced_text)\n"
      ],
      "metadata": {
        "colab": {
          "base_uri": "https://localhost:8080/"
        },
        "id": "oNIarD1GYf9X",
        "outputId": "42b6db64-7c74-465d-cfa0-260a626d3910"
      },
      "execution_count": 3,
      "outputs": [
        {
          "output_type": "stream",
          "name": "stdout",
          "text": [
            "I like orange\n"
          ]
        }
      ]
    },
    {
      "cell_type": "code",
      "source": [
        "#6. Write a code to create a list with numbers 1 to 5 and print it.\n",
        "\n",
        "numbers = [1, 2, 3, 4, 5]\n",
        "print(numbers)"
      ],
      "metadata": {
        "colab": {
          "base_uri": "https://localhost:8080/"
        },
        "id": "Z3aPx2duckby",
        "outputId": "0eadbcaf-43cc-4f3b-f9a8-b2173d1068ca"
      },
      "execution_count": 6,
      "outputs": [
        {
          "output_type": "stream",
          "name": "stdout",
          "text": [
            "[1, 2, 3, 4, 5]\n"
          ]
        }
      ]
    },
    {
      "cell_type": "code",
      "source": [
        "#7. Write a code to append the number 10 to the list[1,2,3,4]\n",
        "\n",
        "my_list = [1, 2, 3, 4]\n",
        "my_list.append(10)\n",
        "print(my_list)"
      ],
      "metadata": {
        "colab": {
          "base_uri": "https://localhost:8080/"
        },
        "id": "lwwKpCt4dwiN",
        "outputId": "3cf13305-d106-4c75-e14c-ad153c8eeae0"
      },
      "execution_count": 9,
      "outputs": [
        {
          "output_type": "stream",
          "name": "stdout",
          "text": [
            "[1, 2, 3, 4, 10]\n"
          ]
        }
      ]
    },
    {
      "cell_type": "code",
      "source": [
        "#8. Write a code to remove the number 3 from the list [1,2,3,4,5].\n",
        "\n",
        "my_list = [1, 2, 3, 4, 5]\n",
        "my_list.remove(3)\n",
        "print(my_list)"
      ],
      "metadata": {
        "colab": {
          "base_uri": "https://localhost:8080/"
        },
        "id": "I23YWxCReJQ7",
        "outputId": "ddad78eb-0ea3-4aa2-a12d-b39f10f72280"
      },
      "execution_count": 10,
      "outputs": [
        {
          "output_type": "stream",
          "name": "stdout",
          "text": [
            "[1, 2, 4, 5]\n"
          ]
        }
      ]
    },
    {
      "cell_type": "code",
      "source": [
        "#9. Write a code to access the second element in the list['a'b'c'd'].\n",
        "\n",
        "my_list = ['a', 'b', 'c', 'd']\n",
        "second_element = my_list[1]\n",
        "print(second_element)"
      ],
      "metadata": {
        "colab": {
          "base_uri": "https://localhost:8080/"
        },
        "id": "TVuBjjhNeoI8",
        "outputId": "0f9914df-cce1-4a66-b33c-49e1b758cf80"
      },
      "execution_count": 11,
      "outputs": [
        {
          "output_type": "stream",
          "name": "stdout",
          "text": [
            "b\n"
          ]
        }
      ]
    },
    {
      "cell_type": "code",
      "source": [
        "#10. Write a code to reverse the list[10,20,30,40,50].\n",
        "\n",
        "my_list = [10, 20, 30, 40, 50]\n",
        "reversed_list = my_list[::-1]\n",
        "print(reversed_list)"
      ],
      "metadata": {
        "colab": {
          "base_uri": "https://localhost:8080/"
        },
        "id": "K42XcQeBe8RQ",
        "outputId": "ce8e26f8-88ae-4f5a-d005-02a33347c103"
      },
      "execution_count": 12,
      "outputs": [
        {
          "output_type": "stream",
          "name": "stdout",
          "text": [
            "[50, 40, 30, 20, 10]\n"
          ]
        }
      ]
    },
    {
      "cell_type": "code",
      "source": [
        "#11. Write a code to create a tuple with the elements 100,200,300 and print it.\n",
        "\n",
        "my_tuple = (100, 200, 300)\n",
        "print(my_tuple)"
      ],
      "metadata": {
        "colab": {
          "base_uri": "https://localhost:8080/"
        },
        "id": "ld_vGWhWfLo3",
        "outputId": "1f56de30-cd1a-4d28-bc30-578ae015fe9e"
      },
      "execution_count": 13,
      "outputs": [
        {
          "output_type": "stream",
          "name": "stdout",
          "text": [
            "(100, 200, 300)\n"
          ]
        }
      ]
    },
    {
      "cell_type": "code",
      "source": [
        "#12. Write a code to access the second-to-last element of the tuple('red'green'blue'yellow')\n",
        "\n",
        "my_tuple = ('red', 'green', 'blue', 'yellow')\n",
        "second_to_last_element = my_tuple[-2]\n",
        "print(second_to_last_element)"
      ],
      "metadata": {
        "colab": {
          "base_uri": "https://localhost:8080/"
        },
        "id": "Cz2m9CbCiej1",
        "outputId": "31d57bb0-b5c8-433c-c146-49c0342722d0"
      },
      "execution_count": 14,
      "outputs": [
        {
          "output_type": "stream",
          "name": "stdout",
          "text": [
            "blue\n"
          ]
        }
      ]
    },
    {
      "cell_type": "code",
      "source": [
        "#13. Write a code to find the minimum number in the tuple(10,20,5,15).\n",
        "\n",
        "my_tuple = (10, 20, 5, 15)\n",
        "minimum_number = min(my_tuple)\n",
        "print(minimum_number)"
      ],
      "metadata": {
        "colab": {
          "base_uri": "https://localhost:8080/"
        },
        "id": "_AZKBfArjDu7",
        "outputId": "bf05cdb3-7203-4e0e-a1bf-cc0ff425ea96"
      },
      "execution_count": 15,
      "outputs": [
        {
          "output_type": "stream",
          "name": "stdout",
          "text": [
            "5\n"
          ]
        }
      ]
    },
    {
      "cell_type": "code",
      "source": [
        "#14. Write a code to find the index of the element \"cat\" in the tuple('dog'cat'rabbit')\n",
        "\n",
        "my_tuple = ('dog', 'cat', 'rabbit')\n",
        "index_of_cat = my_tuple.index('cat')\n",
        "print(index_of_cat)"
      ],
      "metadata": {
        "colab": {
          "base_uri": "https://localhost:8080/"
        },
        "id": "XnU6diAIjfk-",
        "outputId": "cf97b383-e4a1-401b-e9dd-56e811f3e8e5"
      },
      "execution_count": 16,
      "outputs": [
        {
          "output_type": "stream",
          "name": "stdout",
          "text": [
            "1\n"
          ]
        }
      ]
    },
    {
      "cell_type": "code",
      "source": [
        "#15. Write a code ro create a tuple containing three different fruits and check if \"kiwi\" is in it.\n",
        "\n",
        "fruits_tuple = ('apple', 'banana', 'orange')\n",
        "is_kiwi_in_tuple = 'kiwi' in fruits_tuple\n",
        "print(is_kiwi_in_tuple)"
      ],
      "metadata": {
        "colab": {
          "base_uri": "https://localhost:8080/"
        },
        "id": "v5bPr7d5j1gP",
        "outputId": "6dd2d7b5-64f2-4e44-b1ff-eadb2d211bf2"
      },
      "execution_count": 17,
      "outputs": [
        {
          "output_type": "stream",
          "name": "stdout",
          "text": [
            "False\n"
          ]
        }
      ]
    },
    {
      "cell_type": "code",
      "source": [
        "#16. Write a code to create a set with the elements 'a'b'c' and print it.\n",
        "\n",
        "my_elements = {'a', 'b', 'c'}\n",
        "print(my_elements)\n",
        "\n"
      ],
      "metadata": {
        "colab": {
          "base_uri": "https://localhost:8080/"
        },
        "id": "aT68YXPvkP42",
        "outputId": "2789d275-e031-499f-9e96-647b5d3ccc46"
      },
      "execution_count": 18,
      "outputs": [
        {
          "output_type": "stream",
          "name": "stdout",
          "text": [
            "{'a', 'c', 'b'}\n"
          ]
        }
      ]
    },
    {
      "cell_type": "code",
      "source": [
        "#17. Write a code to clear all elements from the set {1,2,3,4,5}.\n",
        "\n",
        "my_set = {1, 2, 3, 4, 5}\n",
        "my_set.clear()\n",
        "print(my_set)"
      ],
      "metadata": {
        "colab": {
          "base_uri": "https://localhost:8080/"
        },
        "id": "g8VojaLhlHh_",
        "outputId": "abe16e28-7f3d-4523-9528-be0c1f637d33"
      },
      "execution_count": 19,
      "outputs": [
        {
          "output_type": "stream",
          "name": "stdout",
          "text": [
            "set()\n"
          ]
        }
      ]
    },
    {
      "cell_type": "code",
      "source": [
        "#18. Write a code to remove the element 4 from the set {1,2,3,4}.\n",
        "\n",
        "my_set = {1, 2, 3, 4}\n",
        "my_set.remove(4)\n",
        "print(my_set)"
      ],
      "metadata": {
        "colab": {
          "base_uri": "https://localhost:8080/"
        },
        "id": "vWJ5JcbolgK2",
        "outputId": "b6e82df2-6db0-4cd7-f17f-91f240694938"
      },
      "execution_count": 20,
      "outputs": [
        {
          "output_type": "stream",
          "name": "stdout",
          "text": [
            "{1, 2, 3}\n"
          ]
        }
      ]
    },
    {
      "cell_type": "code",
      "source": [
        "#19. Write a code to find the union of two sets{1,2,3} and {3,4,5}.\n",
        "\n",
        "set1 = {1, 2, 3}\n",
        "set2 = {3, 4, 5}\n",
        "union_set = set1.union(set2)\n",
        "print(union_set)"
      ],
      "metadata": {
        "colab": {
          "base_uri": "https://localhost:8080/"
        },
        "id": "-RyiOfbpmB9h",
        "outputId": "c7939ef2-c075-4b0c-ad70-cf52ac70d2bd"
      },
      "execution_count": 21,
      "outputs": [
        {
          "output_type": "stream",
          "name": "stdout",
          "text": [
            "{1, 2, 3, 4, 5}\n"
          ]
        }
      ]
    },
    {
      "cell_type": "code",
      "source": [
        "#20. Write a code to find the intersection of two sets{1,2,3} and {2,3,4,}.\n",
        "\n",
        "set1 = {1, 2, 3}\n",
        "set2 = {2, 3, 4}\n",
        "intersection_set = set1.intersection(set2)\n",
        "print(intersection_set)"
      ],
      "metadata": {
        "colab": {
          "base_uri": "https://localhost:8080/"
        },
        "id": "E3lw7fyPmWyn",
        "outputId": "a4e11b22-1a3d-49fc-ff4d-de9a400c7263"
      },
      "execution_count": 22,
      "outputs": [
        {
          "output_type": "stream",
          "name": "stdout",
          "text": [
            "{2, 3}\n"
          ]
        }
      ]
    },
    {
      "cell_type": "code",
      "source": [
        "#21. Write a code to create a dictionary with the keys \"name\",\"age\", and \"city\", and print it.\n",
        "\n",
        "my_dict = {\"name\": \"Tej\", \"age\": 25, \"city\": \"New Delhi\"}\n",
        "print(my_dict)"
      ],
      "metadata": {
        "colab": {
          "base_uri": "https://localhost:8080/"
        },
        "id": "3J08qxrEmnfX",
        "outputId": "b0c4f279-1fff-44bf-da59-aad293ab5057"
      },
      "execution_count": 23,
      "outputs": [
        {
          "output_type": "stream",
          "name": "stdout",
          "text": [
            "{'name': 'Tej', 'age': 25, 'city': 'New Delhi'}\n"
          ]
        }
      ]
    },
    {
      "cell_type": "code",
      "source": [
        "#22. Write a code to add a new key-value pair \"country\":\"USA\" to the dictionary{'name':Jhon','age:25}.\n",
        "\n",
        "my_dict = {'name': 'Jhon', 'age': 25}\n",
        "my_dict['country'] = 'USA'\n",
        "print(my_dict)"
      ],
      "metadata": {
        "colab": {
          "base_uri": "https://localhost:8080/"
        },
        "id": "nOTK4Ko5nY91",
        "outputId": "07248147-b5c7-455d-d4d4-b3e41ad7801e"
      },
      "execution_count": 24,
      "outputs": [
        {
          "output_type": "stream",
          "name": "stdout",
          "text": [
            "{'name': 'Jhon', 'age': 25, 'country': 'USA'}\n"
          ]
        }
      ]
    },
    {
      "cell_type": "code",
      "source": [
        "#23. Write a code to access the value associated with the key \"name\" in the dictionary {'name':'Alice','age':30}.\n",
        "\n",
        "my_dict = {'name': 'Alice', 'age': 30}\n",
        "name_value = my_dict['name']\n",
        "print(name_value)"
      ],
      "metadata": {
        "colab": {
          "base_uri": "https://localhost:8080/"
        },
        "id": "VCaFGIg3oFPd",
        "outputId": "c87f21c6-2b19-45d9-eced-3e8b7afa81aa"
      },
      "execution_count": 25,
      "outputs": [
        {
          "output_type": "stream",
          "name": "stdout",
          "text": [
            "Alice\n"
          ]
        }
      ]
    },
    {
      "cell_type": "code",
      "source": [
        "#24. Write a code to remove the key\"age\" from the dictionary{'name':Bob','age':22,'city':'New York'}.\n",
        "\n",
        "my_dict = {'name': 'Bob', 'age': 22, 'city': 'New York'}\n",
        "del my_dict['age']\n",
        "print(my_dict)"
      ],
      "metadata": {
        "colab": {
          "base_uri": "https://localhost:8080/"
        },
        "id": "bg8K9XGCpBkY",
        "outputId": "e383f154-e523-499e-94be-386ccc64b3c9"
      },
      "execution_count": 26,
      "outputs": [
        {
          "output_type": "stream",
          "name": "stdout",
          "text": [
            "{'name': 'Bob', 'city': 'New York'}\n"
          ]
        }
      ]
    },
    {
      "cell_type": "code",
      "source": [
        "#25. Write a code to check if the key \"city\" exists in the dictionary{'name':'Alice','city':'New York'}.\n",
        "\n",
        "my_dict = {'name': 'Alice', 'city': 'New York'}\n",
        "city_exists = 'city' in my_dict\n",
        "print(city_exists)"
      ],
      "metadata": {
        "colab": {
          "base_uri": "https://localhost:8080/"
        },
        "id": "ebWlZYXcpfMa",
        "outputId": "e4e78413-b6da-497c-d7dc-a2057444aaac"
      },
      "execution_count": 27,
      "outputs": [
        {
          "output_type": "stream",
          "name": "stdout",
          "text": [
            "True\n"
          ]
        }
      ]
    },
    {
      "cell_type": "code",
      "source": [
        "#26. Write a code to create a lsit,a tuple,and a dictionary,and print them all.\n",
        "\n",
        "my_list = [1, 2, 3, 4, 5]\n",
        "my_tuple = (10, 20, 30, 40, 50)\n",
        "my_dict = {'name': 'Tej', 'age': 25, 'city': 'New Delhi'}\n",
        "\n",
        "print(\"List:\", my_list)\n",
        "print(\"Tuple:\", my_tuple)\n",
        "print(\"Dictionary:\", my_dict)\n"
      ],
      "metadata": {
        "colab": {
          "base_uri": "https://localhost:8080/"
        },
        "id": "CWjfTWJsqEaq",
        "outputId": "67380cd1-3334-4078-9586-b65341894a3e"
      },
      "execution_count": 28,
      "outputs": [
        {
          "output_type": "stream",
          "name": "stdout",
          "text": [
            "List: [1, 2, 3, 4, 5]\n",
            "Tuple: (10, 20, 30, 40, 50)\n",
            "Dictionary: {'name': 'Tej', 'age': 25, 'city': 'New Delhi'}\n"
          ]
        }
      ]
    },
    {
      "cell_type": "code",
      "source": [
        "#27. Write a code to create a list of 5 random numbers between 1 and 100,sort it in ascending order,and print the result.(replaced)\n",
        "\n",
        "import random\n",
        "\n",
        "random_numbers = [random.randint(1, 100) for _ in range(5)]\n",
        "random_numbers.sort()\n",
        "print(random_numbers)\n",
        "\n"
      ],
      "metadata": {
        "colab": {
          "base_uri": "https://localhost:8080/"
        },
        "id": "LEEHHvc3qol2",
        "outputId": "7a50bf0f-60c6-4fd0-e822-846afc200cd4"
      },
      "execution_count": 29,
      "outputs": [
        {
          "output_type": "stream",
          "name": "stdout",
          "text": [
            "[15, 38, 64, 75, 78]\n"
          ]
        }
      ]
    },
    {
      "cell_type": "code",
      "source": [
        "#28 Write a code to create a list with strings and print the element at the third index.\n",
        "\n",
        "my_list = ['apple', 'ajay', 'orange', 'sumit', 'kiwi']\n",
        "third_element = my_list[2]\n",
        "print(third_element)"
      ],
      "metadata": {
        "colab": {
          "base_uri": "https://localhost:8080/"
        },
        "id": "m2uW9-8orfOE",
        "outputId": "e7ce1c1d-b2d0-4de7-e016-adb3758ae767"
      },
      "execution_count": 30,
      "outputs": [
        {
          "output_type": "stream",
          "name": "stdout",
          "text": [
            "orange\n"
          ]
        }
      ]
    },
    {
      "cell_type": "code",
      "source": [
        "#29 Write a code to combine two dictionaries into one and print the result.\n",
        "\n",
        "dict1 = {\"name\": \"Tej\", \"age\": 25}\n",
        "dict2 = {\"city\": \"New Delhi\", \"course\": \"Pwskills\"}\n",
        "combined_dict = {**dict1, **dict2}\n",
        "print(combined_dict)"
      ],
      "metadata": {
        "colab": {
          "base_uri": "https://localhost:8080/"
        },
        "id": "Fc4N53RLsD6R",
        "outputId": "109864da-b93a-4737-a9b2-04ce18cd046e"
      },
      "execution_count": 33,
      "outputs": [
        {
          "output_type": "stream",
          "name": "stdout",
          "text": [
            "{'name': 'Tej', 'age': 25, 'city': 'New Delhi', 'course': 'Pwskills'}\n"
          ]
        }
      ]
    },
    {
      "cell_type": "code",
      "source": [
        "#30 Write  a code to convert a list of strings into a set.\n",
        "\n",
        "names = [\"ram\", \"tej\", \"ajay\",\"tej\", \"sumit\", \"ram\"]\n",
        "names_set = set(names)\n",
        "print(names_set)"
      ],
      "metadata": {
        "colab": {
          "base_uri": "https://localhost:8080/"
        },
        "id": "gtLN2YMlssYn",
        "outputId": "f86de1ae-2f7f-4ab1-d856-0aa56aa9dbb6"
      },
      "execution_count": 37,
      "outputs": [
        {
          "output_type": "stream",
          "name": "stdout",
          "text": [
            "{'sumit', 'ajay', 'ram', 'tej'}\n"
          ]
        }
      ]
    },
    {
      "cell_type": "code",
      "source": [],
      "metadata": {
        "id": "GaiJRK83uFzG"
      },
      "execution_count": null,
      "outputs": []
    }
  ]
}